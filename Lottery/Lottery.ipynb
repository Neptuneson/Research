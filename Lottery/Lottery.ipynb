{
 "cells": [
  {
   "cell_type": "code",
   "execution_count": 1,
   "id": "7413e08b-2559-4514-90f7-abee0ac43745",
   "metadata": {},
   "outputs": [
    {
     "name": "stderr",
     "output_type": "stream",
     "text": [
      "Exception ignored in: <bound method IPythonKernel._clean_thread_parent_frames of <sage.repl.ipython_kernel.kernel.SageKernel object at 0x10490e590>>\n",
      "Traceback (most recent call last):\n",
      "  File \"/private/var/tmp/sage-10.3-current/local/var/lib/sage/venv-python3.11.8/lib/python3.11/site-packages/ipykernel/ipkernel.py\", line 770, in _clean_thread_parent_frames\n",
      "    def _clean_thread_parent_frames(\n",
      "\n",
      "  File \"src/cysignals/signals.pyx\", line 341, in cysignals.signals.python_check_interrupt\n",
      "KeyboardInterrupt: \n"
     ]
    },
    {
     "ename": "KeyboardInterrupt",
     "evalue": "",
     "output_type": "error",
     "traceback": [
      "\u001b[0;31m---------------------------------------------------------------------------\u001b[0m",
      "\u001b[0;31mKeyboardInterrupt\u001b[0m                         Traceback (most recent call last)",
      "Cell \u001b[0;32mIn[1], line 5\u001b[0m\n\u001b[1;32m      3\u001b[0m G99 \u001b[38;5;241m=\u001b[39m graphs\u001b[38;5;241m.\u001b[39mRandomGNM(Integer(\u001b[38;5;241m99\u001b[39m), Integer(\u001b[38;5;241m693\u001b[39m), seed \u001b[38;5;241m=\u001b[39m rand)\n\u001b[1;32m      4\u001b[0m \u001b[38;5;28;01mwhile\u001b[39;00m \u001b[38;5;129;01mnot\u001b[39;00m G99\u001b[38;5;241m.\u001b[39mis_strongly_regular():\n\u001b[0;32m----> 5\u001b[0m     G99 \u001b[38;5;241m=\u001b[39m \u001b[43mgraphs\u001b[49m\u001b[38;5;241;43m.\u001b[39;49m\u001b[43mRandomGNM\u001b[49m\u001b[43m(\u001b[49m\u001b[43mInteger\u001b[49m\u001b[43m(\u001b[49m\u001b[38;5;241;43m99\u001b[39;49m\u001b[43m)\u001b[49m\u001b[43m,\u001b[49m\u001b[43m \u001b[49m\u001b[43mInteger\u001b[49m\u001b[43m(\u001b[49m\u001b[38;5;241;43m693\u001b[39;49m\u001b[43m)\u001b[49m\u001b[43m,\u001b[49m\u001b[43m \u001b[49m\u001b[43mseed\u001b[49m\u001b[43m \u001b[49m\u001b[38;5;241;43m=\u001b[39;49m\u001b[43m \u001b[49m\u001b[43mrand\u001b[49m\u001b[43m)\u001b[49m\n\u001b[1;32m      6\u001b[0m G99\u001b[38;5;241m.\u001b[39mshow()\n",
      "File \u001b[0;32m/private/var/tmp/sage-10.3-current/local/var/lib/sage/venv-python3.11.8/lib/python3.11/site-packages/sage/graphs/generators/random.py:713\u001b[0m, in \u001b[0;36mRandomGNM\u001b[0;34m(n, m, dense, seed)\u001b[0m\n\u001b[1;32m    711\u001b[0m     \u001b[38;5;28;01mreturn\u001b[39;00m Graph(networkx\u001b[38;5;241m.\u001b[39mdense_gnm_random_graph(n, m, seed\u001b[38;5;241m=\u001b[39mseed))\n\u001b[1;32m    712\u001b[0m \u001b[38;5;28;01melse\u001b[39;00m:\n\u001b[0;32m--> 713\u001b[0m     \u001b[38;5;28;01mreturn\u001b[39;00m \u001b[43mGraph\u001b[49m\u001b[43m(\u001b[49m\u001b[43mnetworkx\u001b[49m\u001b[38;5;241;43m.\u001b[39;49m\u001b[43mgnm_random_graph\u001b[49m\u001b[43m(\u001b[49m\u001b[43mn\u001b[49m\u001b[43m,\u001b[49m\u001b[43m \u001b[49m\u001b[43mm\u001b[49m\u001b[43m,\u001b[49m\u001b[43m \u001b[49m\u001b[43mseed\u001b[49m\u001b[38;5;241;43m=\u001b[39;49m\u001b[43mseed\u001b[49m\u001b[43m)\u001b[49m\u001b[43m)\u001b[49m\n",
      "File \u001b[0;32m/private/var/tmp/sage-10.3-current/local/var/lib/sage/venv-python3.11.8/lib/python3.11/site-packages/sage/graphs/graph.py:1199\u001b[0m, in \u001b[0;36mGraph.__init__\u001b[0;34m(self, data, pos, loops, format, weighted, data_structure, vertex_labels, name, multiedges, convert_empty_dict_labels_to_None, sparse, immutable, hash_labels)\u001b[0m\n\u001b[1;32m   1197\u001b[0m \u001b[38;5;28;01melif\u001b[39;00m \u001b[38;5;28mformat\u001b[39m \u001b[38;5;241m==\u001b[39m \u001b[38;5;124m'\u001b[39m\u001b[38;5;124mNX\u001b[39m\u001b[38;5;124m'\u001b[39m:\n\u001b[1;32m   1198\u001b[0m     \u001b[38;5;28;01mfrom\u001b[39;00m \u001b[38;5;21;01msage\u001b[39;00m\u001b[38;5;21;01m.\u001b[39;00m\u001b[38;5;21;01mgraphs\u001b[39;00m\u001b[38;5;21;01m.\u001b[39;00m\u001b[38;5;21;01mgraph_input\u001b[39;00m \u001b[38;5;28;01mimport\u001b[39;00m from_networkx_graph\n\u001b[0;32m-> 1199\u001b[0m     \u001b[43mfrom_networkx_graph\u001b[49m\u001b[43m(\u001b[49m\u001b[38;5;28;43mself\u001b[39;49m\u001b[43m,\u001b[49m\u001b[43m \u001b[49m\u001b[43mdata\u001b[49m\u001b[43m,\u001b[49m\n\u001b[1;32m   1200\u001b[0m \u001b[43m                        \u001b[49m\u001b[43mweighted\u001b[49m\u001b[38;5;241;43m=\u001b[39;49m\u001b[43mweighted\u001b[49m\u001b[43m,\u001b[49m\u001b[43m \u001b[49m\u001b[43mmultiedges\u001b[49m\u001b[38;5;241;43m=\u001b[39;49m\u001b[43mmultiedges\u001b[49m\u001b[43m,\u001b[49m\u001b[43m \u001b[49m\u001b[43mloops\u001b[49m\u001b[38;5;241;43m=\u001b[39;49m\u001b[43mloops\u001b[49m\u001b[43m,\u001b[49m\n\u001b[1;32m   1201\u001b[0m \u001b[43m                        \u001b[49m\u001b[43mconvert_empty_dict_labels_to_None\u001b[49m\u001b[38;5;241;43m=\u001b[39;49m\u001b[43mconvert_empty_dict_labels_to_None\u001b[49m\u001b[43m)\u001b[49m\n\u001b[1;32m   1202\u001b[0m     \u001b[38;5;28;01mif\u001b[39;00m weighted \u001b[38;5;129;01mis\u001b[39;00m \u001b[38;5;28;01mNone\u001b[39;00m:\n\u001b[1;32m   1203\u001b[0m         weighted \u001b[38;5;241m=\u001b[39m \u001b[38;5;28mself\u001b[39m\u001b[38;5;241m.\u001b[39mallows_multiple_edges()\n",
      "File \u001b[0;32m/private/var/tmp/sage-10.3-current/local/var/lib/sage/venv-python3.11.8/lib/python3.11/site-packages/sage/graphs/graph_input.py:779\u001b[0m, in \u001b[0;36mfrom_networkx_graph\u001b[0;34m(G, gnx, weighted, loops, multiedges, convert_empty_dict_labels_to_None)\u001b[0m\n\u001b[1;32m    777\u001b[0m     \u001b[38;5;28;01mdef\u001b[39;00m \u001b[38;5;21mr\u001b[39m(label):\n\u001b[1;32m    778\u001b[0m         \u001b[38;5;28;01mreturn\u001b[39;00m \u001b[38;5;28;01mNone\u001b[39;00m \u001b[38;5;28;01mif\u001b[39;00m label \u001b[38;5;241m==\u001b[39m {} \u001b[38;5;28;01melse\u001b[39;00m label\n\u001b[0;32m--> 779\u001b[0m     \u001b[43mG\u001b[49m\u001b[38;5;241;43m.\u001b[39;49m\u001b[43madd_edges\u001b[49m\u001b[43m(\u001b[49m\u001b[43m(\u001b[49m\u001b[43mu\u001b[49m\u001b[43m,\u001b[49m\u001b[43m \u001b[49m\u001b[43mv\u001b[49m\u001b[43m,\u001b[49m\u001b[43m \u001b[49m\u001b[43mr\u001b[49m\u001b[43m(\u001b[49m\u001b[43mll\u001b[49m\u001b[43m)\u001b[49m\u001b[43m)\u001b[49m\u001b[43m \u001b[49m\u001b[38;5;28;43;01mfor\u001b[39;49;00m\u001b[43m \u001b[49m\u001b[43mu\u001b[49m\u001b[43m,\u001b[49m\u001b[43m \u001b[49m\u001b[43mv\u001b[49m\u001b[43m,\u001b[49m\u001b[43m \u001b[49m\u001b[43mll\u001b[49m\u001b[43m \u001b[49m\u001b[38;5;129;43;01min\u001b[39;49;00m\u001b[43m \u001b[49m\u001b[43mgnx\u001b[49m\u001b[38;5;241;43m.\u001b[39;49m\u001b[43medges\u001b[49m\u001b[43m(\u001b[49m\u001b[43mdata\u001b[49m\u001b[38;5;241;43m=\u001b[39;49m\u001b[38;5;28;43;01mTrue\u001b[39;49;00m\u001b[43m)\u001b[49m\u001b[43m)\u001b[49m\n\u001b[1;32m    780\u001b[0m \u001b[38;5;28;01melse\u001b[39;00m:\n\u001b[1;32m    781\u001b[0m     G\u001b[38;5;241m.\u001b[39madd_edges(gnx\u001b[38;5;241m.\u001b[39medges(data\u001b[38;5;241m=\u001b[39m\u001b[38;5;28;01mTrue\u001b[39;00m))\n",
      "File \u001b[0;32m/private/var/tmp/sage-10.3-current/local/var/lib/sage/venv-python3.11.8/lib/python3.11/site-packages/sage/graphs/generic_graph.py:12192\u001b[0m, in \u001b[0;36mGenericGraph.add_edges\u001b[0;34m(self, edges, loops)\u001b[0m\n\u001b[1;32m  12190\u001b[0m \u001b[38;5;28;01mif\u001b[39;00m loops \u001b[38;5;129;01mis\u001b[39;00m \u001b[38;5;28;01mNone\u001b[39;00m:\n\u001b[1;32m  12191\u001b[0m     loops \u001b[38;5;241m=\u001b[39m \u001b[38;5;28mself\u001b[39m\u001b[38;5;241m.\u001b[39mallows_loops()\n\u001b[0;32m> 12192\u001b[0m \u001b[38;5;28;43mself\u001b[39;49m\u001b[38;5;241;43m.\u001b[39;49m\u001b[43m_backend\u001b[49m\u001b[38;5;241;43m.\u001b[39;49m\u001b[43madd_edges\u001b[49m\u001b[43m(\u001b[49m\u001b[43medges\u001b[49m\u001b[43m,\u001b[49m\u001b[43m \u001b[49m\u001b[38;5;28;43mself\u001b[39;49m\u001b[38;5;241;43m.\u001b[39;49m\u001b[43m_directed\u001b[49m\u001b[43m,\u001b[49m\u001b[43m \u001b[49m\u001b[43mremove_loops\u001b[49m\u001b[38;5;241;43m=\u001b[39;49m\u001b[38;5;129;43;01mnot\u001b[39;49;00m\u001b[43m \u001b[49m\u001b[43mloops\u001b[49m\u001b[43m)\u001b[49m\n",
      "File \u001b[0;32m/private/var/tmp/sage-10.3-current/local/var/lib/sage/venv-python3.11.8/lib/python3.11/site-packages/sage/graphs/base/c_graph.pyx:2350\u001b[0m, in \u001b[0;36msage.graphs.base.c_graph.CGraphBackend.add_edges (build/cythonized/sage/graphs/base/c_graph.cpp:31666)\u001b[0;34m()\u001b[0m\n\u001b[1;32m   2348\u001b[0m \"\"\"\n\u001b[1;32m   2349\u001b[0m cdef object u, v, l, e\n\u001b[0;32m-> 2350\u001b[0m for e in edges:\n\u001b[1;32m   2351\u001b[0m     if len(e) == 3:\n\u001b[1;32m   2352\u001b[0m         u, v, l = e\n",
      "File \u001b[0;32m/private/var/tmp/sage-10.3-current/local/var/lib/sage/venv-python3.11.8/lib/python3.11/site-packages/sage/graphs/graph_input.py:779\u001b[0m, in \u001b[0;36m<genexpr>\u001b[0;34m(.0)\u001b[0m\n\u001b[1;32m    777\u001b[0m     \u001b[38;5;28;01mdef\u001b[39;00m \u001b[38;5;21mr\u001b[39m(label):\n\u001b[1;32m    778\u001b[0m         \u001b[38;5;28;01mreturn\u001b[39;00m \u001b[38;5;28;01mNone\u001b[39;00m \u001b[38;5;28;01mif\u001b[39;00m label \u001b[38;5;241m==\u001b[39m {} \u001b[38;5;28;01melse\u001b[39;00m label\n\u001b[0;32m--> 779\u001b[0m     G\u001b[38;5;241m.\u001b[39madd_edges((u, v, r(ll)) \u001b[38;5;28;01mfor\u001b[39;00m u, v, ll \u001b[38;5;129;01min\u001b[39;00m gnx\u001b[38;5;241m.\u001b[39medges(data\u001b[38;5;241m=\u001b[39m\u001b[38;5;28;01mTrue\u001b[39;00m))\n\u001b[1;32m    780\u001b[0m \u001b[38;5;28;01melse\u001b[39;00m:\n\u001b[1;32m    781\u001b[0m     G\u001b[38;5;241m.\u001b[39madd_edges(gnx\u001b[38;5;241m.\u001b[39medges(data\u001b[38;5;241m=\u001b[39m\u001b[38;5;28;01mTrue\u001b[39;00m))\n",
      "File \u001b[0;32msrc/cysignals/signals.pyx:341\u001b[0m, in \u001b[0;36mcysignals.signals.python_check_interrupt\u001b[0;34m()\u001b[0m\n",
      "\u001b[0;31mKeyboardInterrupt\u001b[0m: "
     ]
    }
   ],
   "source": [
    "import random\n",
    "rand = random.seed(\"Conway99v7\")\n",
    "G99 = graphs.RandomGNM(99, 693, seed = rand)\n",
    "while not G99.is_strongly_regular():\n",
    "    G99 = graphs.RandomGNM(99, 693, seed = rand)\n",
    "G99.show()"
   ]
  },
  {
   "cell_type": "code",
   "execution_count": null,
   "id": "fdc02c3c-b12d-4638-a56d-e5ea02bce782",
   "metadata": {},
   "outputs": [],
   "source": []
  }
 ],
 "metadata": {
  "kernelspec": {
   "display_name": "SageMath 10.3",
   "language": "sage",
   "name": "sagemath-10.3"
  },
  "language_info": {
   "codemirror_mode": {
    "name": "ipython",
    "version": 3
   },
   "file_extension": ".py",
   "mimetype": "text/x-python",
   "name": "python",
   "nbconvert_exporter": "python",
   "pygments_lexer": "ipython3",
   "version": "3.11.8"
  }
 },
 "nbformat": 4,
 "nbformat_minor": 5
}
